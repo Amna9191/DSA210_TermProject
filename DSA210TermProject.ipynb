{
  "nbformat": 4,
  "nbformat_minor": 0,
  "metadata": {
    "colab": {
      "provenance": [],
      "authorship_tag": "ABX9TyMds9HzdcWbGntYoQCCms6k",
      "include_colab_link": true
    },
    "kernelspec": {
      "name": "python3",
      "display_name": "Python 3"
    },
    "language_info": {
      "name": "python"
    }
  },
  "cells": [
    {
      "cell_type": "markdown",
      "metadata": {
        "id": "view-in-github",
        "colab_type": "text"
      },
      "source": [
        "<a href=\"https://colab.research.google.com/github/Amna9191/DSA210_TermProject/blob/main/DSA210TermProject.ipynb\" target=\"_parent\"><img src=\"https://colab.research.google.com/assets/colab-badge.svg\" alt=\"Open In Colab\"/></a>"
      ]
    },
    {
      "cell_type": "code",
      "source": [
        "#Extract Data from html file and save to csv\n",
        "\n",
        "import csv\n",
        "from bs4 import BeautifulSoup\n",
        "import os\n",
        "import re\n",
        "from datetime import datetime\n",
        "\n",
        "# Function to export music history to a CSV file\n",
        "def save_music_history_to_csv(music_history, output_file='music_history.csv'):\n",
        "    headers = ['Song Title', 'Song URL', 'Artist', 'Date', 'Time']  # Added 'Date' and 'Time'\n",
        "\n",
        "    with open(output_file, mode='w', newline='', encoding='utf-8') as file:\n",
        "        writer = csv.DictWriter(file, fieldnames=headers)\n",
        "        writer.writeheader()  # Write the header row\n",
        "        for entry in music_history:\n",
        "            writer.writerow({\n",
        "                'Song Title': entry['song_title'],\n",
        "                'Song URL': entry['song_url'],\n",
        "                'Artist': entry['channel_name'],\n",
        "                'Date': entry['date'],\n",
        "                'Time': entry['time']\n",
        "            })\n",
        "\n",
        "    print(f\"Music history successfully exported to {output_file}\")\n",
        "\n",
        "# Function to load and parse the HTML file\n",
        "def load_html(file_path):\n",
        "    with open(file_path, 'r', encoding='utf-8') as file:\n",
        "        soup = BeautifulSoup(file, 'lxml')\n",
        "    return soup\n",
        "\n",
        "# Function to extract YouTube Music history\n",
        "def extract_youtube_music_history(soup):\n",
        "    music_history = []\n",
        "\n",
        "    music_entries = soup.find_all('div', class_='outer-cell mdl-cell mdl-cell--12-col mdl-shadow--2dp')\n",
        "\n",
        "    for entry in music_entries:\n",
        "        header = entry.find('p', class_='mdl-typography--title')\n",
        "        if header and 'YouTube Music' in header.text.strip():\n",
        "            song_tag = entry.find('a', href=True)\n",
        "            if song_tag:\n",
        "                song_title = song_tag.text.strip()\n",
        "                song_url = song_tag.get('href')\n",
        "\n",
        "                channel_tag = song_tag.find_next('a', href=True)\n",
        "                if channel_tag:\n",
        "                    channel_name = channel_tag.text.strip().replace(\" - Topic\", \"\")\n",
        "\n",
        "                timestamp_tag = entry.find('div', class_='content-cell mdl-cell mdl-cell--6-col mdl-typography--body-1')\n",
        "                if timestamp_tag:\n",
        "                    timestamp_full = timestamp_tag.text.strip()\n",
        "                    match = re.search(r'((Jan|Feb|Mar|Apr|May|Jun|Jul|Aug|Sep|Oct|Nov|Dec)\\s\\d{1,2},\\s\\d{4}),\\s([\\d:]+\\s[AP]M)\\sGMT[+\\-]\\d{2}:\\d{2}', timestamp_full)\n",
        "                    if match:\n",
        "                        date_full = match.group(1)  # Extract the full date\n",
        "                        time_12hr = match.group(3)  # Extract the 12-hour format time\n",
        "\n",
        "                        # Convert 12-hour format to 24-hour format\n",
        "                        time_24hr = datetime.strptime(time_12hr, '%I:%M:%S %p').strftime('%H:%M:%S')\n",
        "                        date = datetime.strptime(date_full, '%b %d, %Y').strftime('%d %b %Y')  # Format date to include day, month, and year\n",
        "                    else:\n",
        "                        date = \"No date found\"\n",
        "                        time_24hr = \"No time found\"\n",
        "                else:\n",
        "                    date = \"No date found\"\n",
        "                    time_24hr = \"No time found\"\n",
        "\n",
        "                music_history.append({\n",
        "                    'song_title': song_title,\n",
        "                    'song_url': 'https://music.youtube.com' + song_url,\n",
        "                    'channel_name': channel_name,\n",
        "                    'date': date,\n",
        "                    'time': time_24hr\n",
        "                })\n",
        "\n",
        "    return music_history\n",
        "\n",
        "# Function to display or process the data\n",
        "def print_music_history(music_history):\n",
        "    for entry in music_history:\n",
        "        print(f\"Song Title: {entry['song_title']}\")\n",
        "        print(f\"Song URL: {entry['song_url']}\")\n",
        "        print(f\"Artist: {entry['channel_name']}\")\n",
        "        print(f\"Date: {entry['date']}\")\n",
        "        print(f\"Time: {entry['time']}\")\n",
        "        print(\"-\" * 40)"
      ],
      "metadata": {
        "id": "eBNQ8Es30FzM"
      },
      "execution_count": 10,
      "outputs": []
    },
    {
      "cell_type": "code",
      "source": [
        "# Function to filter songs by date range and save to a new CSV\n",
        "def filter_songs_by_date_range(input_file, output_file, start_date, end_date):\n",
        "    try:\n",
        "        # Convert start and end dates to datetime objects\n",
        "        start_date = datetime.strptime(start_date, '%d %b %Y')\n",
        "        end_date = datetime.strptime(end_date, '%d %b %Y')\n",
        "\n",
        "        filtered_songs = []\n",
        "\n",
        "        # Read the input CSV file\n",
        "        with open(input_file, mode='r', encoding='utf-8') as file:\n",
        "            reader = csv.DictReader(file)\n",
        "            for row in reader:\n",
        "                song_date = datetime.strptime(row['Date'], '%d %b %Y')\n",
        "                if start_date <= song_date <= end_date:\n",
        "                    filtered_songs.append(row)\n",
        "\n",
        "        # Write the filtered songs to the new CSV file\n",
        "        with open(output_file, mode='w', newline='', encoding='utf-8') as file:\n",
        "            writer = csv.DictWriter(file, fieldnames=['Song Title', 'Song URL', 'Artist', 'Date', 'Time'])\n",
        "            writer.writeheader()\n",
        "            writer.writerows(filtered_songs)\n",
        "\n",
        "        print(f\"Filtered songs successfully saved to {output_file}\")\n",
        "\n",
        "    except Exception as e:\n",
        "        print(f\"An error occurred: {e}\")\n"
      ],
      "metadata": {
        "id": "ELegp5TW4_GO"
      },
      "execution_count": 11,
      "outputs": []
    },
    {
      "cell_type": "code",
      "source": [
        "# Filter history by dates\n",
        "\n",
        "filter_songs_by_date_range(\n",
        "  input_file='music_history.csv',\n",
        "  output_file='filtered_music_history.csv',\n",
        "  start_date='01 Jul 2024',\n",
        "  end_date='20 Oct 2024'\n",
        ")"
      ],
      "metadata": {
        "id": "V0yW1qho5v4x"
      },
      "execution_count": null,
      "outputs": []
    }
  ]
}